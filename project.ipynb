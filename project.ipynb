{
 "cells": [
  {
   "cell_type": "code",
   "execution_count": 3,
   "id": "9e9b64fb",
   "metadata": {},
   "outputs": [],
   "source": [
    "import GetOldTweets3 as got\n",
    "import datetime\n",
    "import pandas as pd\n",
    "import numpy as np\n",
    "import yfinance as yf\n",
    "import csv\n",
    "\n",
    "import sys\n",
    "import re\n",
    "import json\n",
    "import os\n",
    "import string"
   ]
  },
  {
   "cell_type": "code",
   "execution_count": null,
   "id": "826c3aaf",
   "metadata": {},
   "outputs": [],
   "source": [
    "import nltk\n",
    "from nltk.corpus import stopwords\n",
    "from nltk.tokenize import word_tokenize\n",
    "from nltk.sentiment.vader import SentimentIntensityAnalyzer\n",
    "from nltk.sentiment.vader import SentimentIntensityAnalyser\n",
    "import unicodedata"
   ]
  },
  {
   "cell_type": "code",
   "execution_count": 5,
   "id": "23364620",
   "metadata": {},
   "outputs": [],
   "source": [
    "def getDesiredStock(stockname, start_time, end_time):\n",
    "    company_stock = yt.Ticker(stockname)\n",
    "    company_stock.info.get(\"longName\")\n",
    "    stockPrices = yf.download(stockname, start_time, end_time)\n",
    "    stockPrices.to_csv(stockname)"
   ]
  },
  {
   "cell_type": "code",
   "execution_count": null,
   "id": "4eb2bc08",
   "metadata": {},
   "outputs": [],
   "source": [
    "def getTweets(stockname, start_time, end_time):\n",
    "    createFile = open(\"tweet file for\" + stockname + \".csv\", \"a\", endcoding=\"utf-8\")\n",
    "    fileWrite = csv.writer(createFile, lineterminator = '\\n')\n",
    "    tokenTweets = tweetTokeniser()\n",
    "    querySearch = got.manager.TweetCriteria().setQuerySearch(stockname).set_since(start_time).set_until(end_time)\n",
    "    loadTweets = got.manager.TweetManager.getTweets(querySearch)\n",
    "    try:\n",
    "        for i in loadTweets:\n",
    "            tweet = i.text.encode('utf-8')\n",
    "            tweet = tokenTweets.clean_text(tweet.decode())\n",
    "            tweetDate = i.date.date()\n",
    "            csvWriter.writerow([tweetDate, i.text])\n",
    "        except Exception as e:\n",
    "            print(\"Error occured\", str(e))            "
   ]
  },
  {
   "cell_type": "code",
   "execution_count": null,
   "id": "0326bb8b",
   "metadata": {},
   "outputs": [],
   "source": [
    "def stock_tweet_file(stockname):\n",
    "    column = [\"Date\", \"Tweets\"]\n",
    "    data = pd.DataFrame(column)\n",
    "    \n",
    "    index = 0\n",
    "    for i in range(0,len(frame)-1):\n",
    "        date = frame.Date.iloc[i]\n",
    "        next_date = frame.Date.iloc[i+1]\n",
    "        \n",
    "    "
   ]
  },
  {
   "cell_type": "code",
   "execution_count": null,
   "id": "63dfcfc7",
   "metadata": {},
   "outputs": [],
   "source": [
    "from vaderSentiment.vaderSentiment import SentimentIntensityAnalyzer"
   ]
  },
  {
   "cell_type": "code",
   "execution_count": 6,
   "id": "32d388c4",
   "metadata": {
    "scrolled": true
   },
   "outputs": [
    {
     "ename": "NameError",
     "evalue": "name 'tweet_data' is not defined",
     "output_type": "error",
     "traceback": [
      "\u001b[1;31m---------------------------------------------------------------------------\u001b[0m",
      "\u001b[1;31mNameError\u001b[0m                                 Traceback (most recent call last)",
      "\u001b[1;32m~\\AppData\\Local\\Temp/ipykernel_5104/1967495030.py\u001b[0m in \u001b[0;36m<module>\u001b[1;34m\u001b[0m\n\u001b[0;32m     15\u001b[0m \u001b[1;33m\u001b[0m\u001b[0m\n\u001b[0;32m     16\u001b[0m \u001b[1;33m\u001b[0m\u001b[0m\n\u001b[1;32m---> 17\u001b[1;33m \u001b[0mtweet_data\u001b[0m\u001b[1;33m[\u001b[0m\u001b[1;34m\"sentiment\"\u001b[0m\u001b[1;33m]\u001b[0m \u001b[1;33m=\u001b[0m \u001b[0mtweet_data\u001b[0m\u001b[1;33m[\u001b[0m\u001b[1;34m\"Tweets\"\u001b[0m\u001b[1;33m]\u001b[0m\u001b[1;33m.\u001b[0m\u001b[0mapply\u001b[0m\u001b[1;33m(\u001b[0m\u001b[1;32mlambda\u001b[0m \u001b[0mx\u001b[0m\u001b[1;33m:\u001b[0m \u001b[0msentiment\u001b[0m\u001b[1;33m(\u001b[0m\u001b[0mx\u001b[0m\u001b[1;33m)\u001b[0m\u001b[1;33m)\u001b[0m\u001b[1;33m\u001b[0m\u001b[1;33m\u001b[0m\u001b[0m\n\u001b[0m\u001b[0;32m     18\u001b[0m \u001b[1;33m\u001b[0m\u001b[0m\n\u001b[0;32m     19\u001b[0m \u001b[1;33m\u001b[0m\u001b[0m\n",
      "\u001b[1;31mNameError\u001b[0m: name 'tweet_data' is not defined"
     ]
    }
   ],
   "source": [
    "def sentiment(stockname):\n",
    "    analysis = SIA()\n",
    "    data = pd.read_csv(\"Tweet file\" + stockname + \".csv\", encoding = \"utf-8\")\n",
    "    tweet_data = data.unicodedata.loc[Tweets]\n",
    "    assert stockname is not None\n",
    "    pol = analysis.polarity_scores(stockname)\n",
    "    score = pol[\"compound\"]\n",
    "    \n",
    "    if (score >= 0.05):\n",
    "        return \"Positive\"\n",
    "    elif(score < 0.05 and score > -0.05):\n",
    "        return \"Neutral\"\n",
    "    elif (score <= -0.05):\n",
    "        return \"Negative\"\n",
    "\n",
    "    \n",
    "tweet_data[\"sentiment\"] = tweet_data[\"Tweets\"].apply(lambda x: sentiment(x))\n",
    "    \n",
    "    "
   ]
  },
  {
   "cell_type": "code",
   "execution_count": null,
   "id": "d7bbcb69",
   "metadata": {},
   "outputs": [],
   "source": []
  },
  {
   "cell_type": "code",
   "execution_count": null,
   "id": "95dd1312",
   "metadata": {},
   "outputs": [],
   "source": []
  }
 ],
 "metadata": {
  "kernelspec": {
   "display_name": "Python 3 (ipykernel)",
   "language": "python",
   "name": "python3"
  },
  "language_info": {
   "codemirror_mode": {
    "name": "ipython",
    "version": 3
   },
   "file_extension": ".py",
   "mimetype": "text/x-python",
   "name": "python",
   "nbconvert_exporter": "python",
   "pygments_lexer": "ipython3",
   "version": "3.9.7"
  }
 },
 "nbformat": 4,
 "nbformat_minor": 5
}
